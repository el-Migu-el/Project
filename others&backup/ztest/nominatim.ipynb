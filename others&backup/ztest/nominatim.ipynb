{
 "cells": [
  {
   "cell_type": "markdown",
   "metadata": {},
   "source": [
    "# Testing Nominatim to get the address of a location"
   ]
  },
  {
   "cell_type": "code",
   "execution_count": null,
   "metadata": {},
   "outputs": [],
   "source": [
    "from geopy.geocoders import Nominatim"
   ]
  },
  {
   "cell_type": "code",
   "execution_count": null,
   "metadata": {},
   "outputs": [],
   "source": [
    "# initialize Nominatim API\n",
    "geolocator = Nominatim(user_agent=\"geoapiExercises\")"
   ]
  },
  {
   "cell_type": "code",
   "execution_count": null,
   "metadata": {},
   "outputs": [],
   "source": [
    "location = geolocator.reverse(str(Info['latitude'][2]) + \",\" + str(Info['longitude'][2]))"
   ]
  },
  {
   "cell_type": "code",
   "execution_count": null,
   "metadata": {},
   "outputs": [],
   "source": [
    "def get_location(lat, lon):\n",
    "    location = geolocator.reverse(f\"{lat}, {lon}\", exactly_one=True)\n",
    "    address = location.raw['address']\n",
    "    city_district = address.get('city_district', '')\n",
    "    city = address.get('city', '')\n",
    "    postcode = address.get('postcode', '')\n",
    "    return {'city_district': city_district, 'city': city, 'postcode': postcode}"
   ]
  },
  {
   "cell_type": "code",
   "execution_count": null,
   "metadata": {},
   "outputs": [],
   "source": [
    "# Info[['city_district', 'city', 'postcode']] = Info.apply(lambda x: get_location(x['latitude'], x['longitude']), axis=1)"
   ]
  },
  {
   "cell_type": "code",
   "execution_count": null,
   "metadata": {},
   "outputs": [],
   "source": [
    "test_info = Info.copy()\n",
    "# use only first 10 rows\n",
    "test_info = test_info[:10]"
   ]
  },
  {
   "cell_type": "code",
   "execution_count": null,
   "metadata": {},
   "outputs": [],
   "source": [
    "test_info[['city_district', 'city', 'postcode']] = test_info.apply(lambda x: pd.Series(get_location(x['latitude'], x['longitude'])), axis=1)"
   ]
  },
  {
   "cell_type": "code",
   "execution_count": null,
   "metadata": {},
   "outputs": [],
   "source": [
    "test_info"
   ]
  },
  {
   "cell_type": "code",
   "execution_count": null,
   "metadata": {},
   "outputs": [],
   "source": [
    "# get the unique values of the city, country and postcode columns\n",
    "print(test_info[['city_district', 'city', 'postcode']].nunique())\n",
    "\n",
    "# get the na values of the city, country and postcode columns\n",
    "print(test_info[['city_district', 'city', 'postcode']].isna().sum())\n"
   ]
  }
 ],
 "metadata": {
  "language_info": {
   "name": "python"
  },
  "orig_nbformat": 4
 },
 "nbformat": 4,
 "nbformat_minor": 2
}
