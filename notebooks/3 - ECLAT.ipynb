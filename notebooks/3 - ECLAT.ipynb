{
 "cells": [
  {
   "cell_type": "code",
   "execution_count": null,
   "metadata": {},
   "outputs": [],
   "source": [
    "import pandas as pd\n",
    "import numpy as np\n",
    "import matplotlib.pyplot as plt\n",
    "import math\n",
    "from matplotlib.patches import Patch\n",
    "import csv\n",
    "\n",
    "# Mlxtend library\n",
    "from mlxtend.frequent_patterns import apriori\n",
    "from mlxtend.frequent_patterns import association_rules\n",
    "from mlxtend.preprocessing import TransactionEncoder\n",
    "\n",
    "# pyECLAT library\n",
    "from pyECLAT import ECLAT\n",
    "\n",
    "# sklearn libraries\n",
    "from sklearn.model_selection import train_test_split\n",
    "\n",
    "# Matplotlib Options\n",
    "plt.rcParams['figure.figsize'] = [16, 8]\n",
    "font = {'weight' : 'bold',\n",
    "        'size'   : 14}\n",
    "plt.rc('font', **font)\n",
    "\n",
    "# Pandas options\n",
    "pd.set_option(\"display.max_columns\", 100)\n",
    "pd.set_option('display.max_colwidth', None)"
   ]
  },
  {
   "cell_type": "code",
   "execution_count": null,
   "metadata": {},
   "outputs": [],
   "source": [
    "import pandas as pd\n",
    "import ast\n",
    "from mlxtend.preprocessing import TransactionEncoder\n",
    "from pyECLAT import ECLAT\n",
    "\n",
    "# Load the dataset\n",
    "customer_basket = pd.read_csv(\"C:\\\\Users\\\\migue\\\\OneDrive - NOVAIMS\\\\Data Science\\\\Coding Courses\\\\Machine Learning II\\\\Project\\\\data\\\\Basket.csv\")\n",
    "\n",
    "# Convert the string representation to a list of items\n",
    "customer_basket['list_of_goods'] = customer_basket['list_of_goods'].apply(ast.literal_eval)\n",
    "\n",
    "# Convert the list of goods into transaction format\n",
    "transactions = customer_basket['list_of_goods'].tolist()\n",
    "\n",
    "# Convert the transactions into a DataFrame\n",
    "df_transactions = pd.DataFrame(transactions)\n",
    "\n",
    "# Apply the ECLAT algorithm\n",
    "eclat_groceries = ECLAT(data=df_transactions)\n",
    "\n",
    "# Get the frequent itemsets and their supports\n",
    "frequent_itemsets, supports = eclat_groceries.fit()\n",
    "\n"
   ]
  },
  {
   "cell_type": "code",
   "execution_count": null,
   "metadata": {},
   "outputs": [],
   "source": [
    "groceries_rules_indexes, groceries_rules_supports = eclat_groceries.fit(min_support=0.05,\n",
    "                                           min_combination=1,\n",
    "                                           max_combination=1)"
   ]
  },
  {
   "cell_type": "code",
   "execution_count": null,
   "metadata": {},
   "outputs": [],
   "source": [
    "rules_eclat_groceries = pd.DataFrame( \n",
    "  list(groceries_rules_supports.values()),\n",
    "  index=list(groceries_rules_supports.keys()),\n",
    "  columns=['support']\n",
    ")"
   ]
  },
  {
   "cell_type": "code",
   "execution_count": null,
   "metadata": {},
   "outputs": [],
   "source": [
    "rules_eclat_groceries.sort_values(by='support', ascending=False).head(10)"
   ]
  },
  {
   "attachments": {},
   "cell_type": "markdown",
   "metadata": {},
   "source": [
    "* The provided support values represent the individual item supports in the dataset. Here are the insights and potential actions you can consider based on the information:\n",
    "\n",
    "\"oil\" has a support of 0.466850: This indicates that oil is a frequently purchased item in the dataset, appearing in approximately 46.69% of the transactions. With its high support, it can be considered a popular item. You can ensure an ample stock of oil and perhaps even explore offering different varieties or brands to cater to customer preferences.\n",
    "\n",
    "\"cooking oil\" has a support of 0.463350: Similar to \"oil,\" cooking oil is also highly popular, with a support of approximately 46.34%. It suggests that customers often purchase cooking oil alongside other items. You can leverage this insight by strategically placing cooking oil near complementary products, such as spices, sauces, or baking ingredients, to encourage additional purchases.\n",
    "\n",
    "\"cake\" has a support of 0.362925: Cake is a frequently purchased item, appearing in around 36.29% of the transactions. This insight indicates that cake is a popular choice among customers. You can capitalize on this by offering a variety of cakes, promoting special occasions or events, or providing cake-related accessories and decorations to enhance customer experience.\n",
    "\n",
    "\"candy bars\" have a support of 0.298650: Candy bars are relatively popular, with a support of approximately 29.87%. This suggests that customers often include candy bars in their purchases. To leverage this information, you can strategically position candy bars at checkout counters or near high-traffic areas to encourage impulse purchases.\n",
    "\n",
    "\"gums\" have a support of 0.254163: Gums have a moderate support, appearing in around 25.42% of the transactions. This indicates a significant customer preference for gums as an additional purchase. Placing gums near point-of-sale areas or in proximity to other items commonly purchased together can help increase their visibility and sales.\n",
    "\n",
    "\"babies food\" has a support of 0.248087: This item is relatively popular, appearing in approximately 24.81% of the transactions. It suggests a demand for baby food items. You can consider expanding your range of baby food products, ensuring a dedicated section for baby-related items, or offering promotions and discounts to attract customers in this segment.\n",
    "\n",
    "\"muffins\" have a support of 0.218213: Muffins are popular items, with a support of around 21.82%. This suggests a demand for muffins among customers. You can promote freshly baked muffins, introduce different flavors or variations, and consider bundling muffins with other complementary products to enhance their appeal and increase sales.\n",
    "\n",
    "These insights provide valuable information about the popularity of specific items in your dataset. By leveraging these insights, you can make informed decisions about product placement, marketing strategies, inventory management, and customer targeting to optimize sales and enhance the overall customer experience."
   ]
  },
  {
   "cell_type": "code",
   "execution_count": null,
   "metadata": {},
   "outputs": [],
   "source": [
    "groceries_rules_indexes, groceries_rules_supports = eclat_groceries.fit(min_support=0.1,\n",
    "                                           min_combination=2,\n",
    "                                           max_combination=3)"
   ]
  },
  {
   "cell_type": "code",
   "execution_count": null,
   "metadata": {},
   "outputs": [],
   "source": [
    "rules_eclat_groceries = pd.DataFrame( \n",
    "  list(groceries_rules_supports.values()),\n",
    "  index=list(groceries_rules_supports.keys()),\n",
    "  columns=['support'] \n",
    ")"
   ]
  },
  {
   "cell_type": "code",
   "execution_count": null,
   "metadata": {},
   "outputs": [],
   "source": [
    "rules_eclat_groceries.sort_values(by='support', ascending=False).head(10)"
   ]
  },
  {
   "attachments": {},
   "cell_type": "markdown",
   "metadata": {},
   "source": [
    "\"oil & cooking oil\" has a support of 0.297438: This indicates a strong association between oil and cooking oil in customer purchases. You can consider bundling or promoting these items together, such as offering discounts or special deals when both items are purchased. Additionally, you can create recipe suggestions or cooking tips that involve using both oil and cooking oil to encourage customers to buy both items.\n",
    "\n",
    "\"oil & cake\" has a support of 0.229513: This combination suggests that customers often buy oil and cake together. You can create promotions or offer package deals that include both oil and cake. For example, you can provide discounts on cake purchases when buying a specific quantity or type of oil. This can incentivize customers to purchase both items and increase overall sales.\n",
    "\n",
    "\"cooking oil & cake\" has a support of 0.227887: Similar to the previous insight, this combination indicates a preference for purchasing cooking oil and cake together. You can leverage this information by creating joint promotions, showcasing recipes that incorporate both cooking oil and cake, or offering special discounts when customers buy both items.\n",
    "\n",
    "\"oil & candy bars\" has a support of 0.188537: This suggests that there is a correlation between oil and candy bar purchases. You can explore cross-merchandising opportunities by placing candy bars near the oil section or at checkout counters to encourage impulse purchases. Additionally, you can create promotions that include a free candy bar with the purchase of a certain quantity or type of oil.\n",
    "\n",
    "\"candy bars & cooking oil\" has a support of 0.186250: This combination indicates that customers frequently buy candy bars and cooking oil together. You can consider creating promotions that bundle these items or offer discounts when both items are purchased. Additionally, you can experiment with product placement by positioning candy bars near the cooking oil section or displaying them together to increase their visibility and encourage combined purchases.\n",
    "\n",
    "\"oil & gums\" has a support of 0.159925: This suggests a relationship between oil and gum purchases. To leverage this insight, you can place gum products near the oil section or at checkout counters to encourage additional purchases. Promotions that offer a discounted or free pack of gum with the purchase of oil can also help increase sales.\n",
    "\n",
    "\"cooking oil & gums\" has a support of 0.157612: This combination indicates a preference for purchasing cooking oil and gums together. You can consider offering promotions that incentivize customers to buy both items, such as special discounts or package deals. Additionally, you can create in-store displays that showcase the combination of cooking oil and gum to increase their visibility and encourage combined purchases.\n",
    "\n",
    "\"cooking oil & babies food\" has a support of 0.156138: This suggests a relationship between cooking oil and baby food purchases. You can consider creating promotions or packages that include both cooking oil and baby food, targeting customers with infants or young children. Providing discounts or special offers when customers purchase both items can increase the likelihood of combined purchases.\n",
    "\n",
    "\"oil & cooking oil & cake\" has a support of 0.151462: This combination indicates a strong association between oil, cooking oil, and cake in customer purchases. You can consider creating special promotions or packages that include all three items. Offering discounts or exclusive deals when customers purchase this combination can encourage increased sales and provide a convenient solution for customers looking to buy these items together.\n",
    "\n",
    "\"candy bars & cake\" has a support of 0.145113: This combination suggests that customers frequently buy candy bars and cake together. You can leverage this"
   ]
  }
 ],
 "metadata": {
  "kernelspec": {
   "display_name": "Python 3",
   "language": "python",
   "name": "python3"
  },
  "language_info": {
   "codemirror_mode": {
    "name": "ipython",
    "version": 3
   },
   "file_extension": ".py",
   "mimetype": "text/x-python",
   "name": "python",
   "nbconvert_exporter": "python",
   "pygments_lexer": "ipython3",
   "version": "3.11.2"
  },
  "orig_nbformat": 4
 },
 "nbformat": 4,
 "nbformat_minor": 2
}
