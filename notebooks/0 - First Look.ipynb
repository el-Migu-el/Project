{
 "cells": [
  {
   "attachments": {},
   "cell_type": "markdown",
   "metadata": {},
   "source": [
    "# First Look at the Data"
   ]
  },
  {
   "attachments": {},
   "cell_type": "markdown",
   "metadata": {},
   "source": [
    "## Table of Contents\n",
    "* [Import Libraries](#chapter1)\n",
    "    * [Import magic autoreload](#section_1_1)\n",
    "    * [Import the libraries](#section_1_2)\n",
    "    * [Import custom functions.](#section_1_3)\n",
    "* [Read the Data](#chapter2)\n",
    "* [Inspect the Data](#chapter3)\n",
    "* [Create new variables](chapter4)\n",
    "* [Save the Data](#chapter5)\n"
   ]
  },
  {
   "attachments": {},
   "cell_type": "markdown",
   "metadata": {},
   "source": [
    "## Import Libraries: <a class=\"anchor\" id=\"chapter1\"></a>"
   ]
  },
  {
   "attachments": {},
   "cell_type": "markdown",
   "metadata": {},
   "source": [
    "Import the autoreload extension so that any changes in external python modules are automatically loaded. <a class=\"anchor\" id=\"section_1_1\"></a>"
   ]
  },
  {
   "attachments": {},
   "cell_type": "markdown",
   "metadata": {},
   "source": [
    "Import the libraries we will use in this notebook. <a class=\"anchor\" id=\"section_1_2\"></a>"
   ]
  },
  {
   "attachments": {},
   "cell_type": "markdown",
   "metadata": {},
   "source": [
    "Set the current working directory to the project folder."
   ]
  },
  {
   "attachments": {},
   "cell_type": "markdown",
   "metadata": {},
   "source": [
    "Import our custom functions. <a class=\"anchor\" id=\"section_1_3\"></a>"
   ]
  },
  {
   "cell_type": "code",
   "execution_count": 3,
   "metadata": {},
   "outputs": [],
   "source": [
    "%load_ext autoreload\n",
    "%autoreload 2\n",
    "\n",
    "import os\n",
    "os.chdir(\"C:/Users/migue/OneDrive - NOVAIMS/Data Science/Coding Courses/Machine Learning II/Project\")\n",
    "# wd stands for working directory\n",
    "wd = os.getcwd()\n",
    "\n",
    "import pandas as pd\n",
    "import numpy as np\n",
    "import matplotlib.pyplot as plt\n",
    "import seaborn as sns\n",
    "\n",
    "from functions.funcs import *"
   ]
  },
  {
   "attachments": {},
   "cell_type": "markdown",
   "metadata": {},
   "source": [
    "# Read the data: <a class=\"anchor\" id=\"chapter2\"></a>"
   ]
  },
  {
   "attachments": {},
   "cell_type": "markdown",
   "metadata": {},
   "source": [
    "List the files in the directory. "
   ]
  },
  {
   "cell_type": "code",
   "execution_count": 4,
   "metadata": {},
   "outputs": [
    {
     "name": "stdout",
     "output_type": "stream",
     "text": [
      "Created dataframe \u001b[94mBasket\u001b[0m from Customer Basket Dataset.csv\n",
      "Created dataframe \u001b[94mInfo\u001b[0m from Customer Info Dataset.csv\n",
      "Created dataframe \u001b[94mMapping\u001b[0m from Product Mapping Excel File.xlsx\n",
      "File Project Description and Info.pdf is not a .csv or .xlsx file. Skipping it.\n"
     ]
    }
   ],
   "source": [
    "dfs = create_dfs(wd + \"\\\\others&backup\\\\prof_data\\\\\")"
   ]
  },
  {
   "attachments": {},
   "cell_type": "markdown",
   "metadata": {},
   "source": [
    "Create dataframes from the csv files. <a class=\"anchor\" id=\"section_2_1\"></a>"
   ]
  },
  {
   "cell_type": "code",
   "execution_count": 5,
   "metadata": {},
   "outputs": [
    {
     "name": "stdout",
     "output_type": "stream",
     "text": [
      "Created global variable \u001b[94mBasket\u001b[0m with values from dictionary dfs's key \u001b[94mBasket\u001b[0m\n",
      "Created global variable \u001b[94mInfo\u001b[0m with values from dictionary dfs's key \u001b[94mInfo\u001b[0m\n",
      "Created global variable \u001b[94mMapping\u001b[0m with values from dictionary dfs's key \u001b[94mMapping\u001b[0m\n"
     ]
    }
   ],
   "source": [
    "# Create a global variable for each dataframe in the dfs dict\n",
    "for key in dfs.keys():\n",
    "    globals()[key] = dfs[key]\n",
    "    print(f\"Created global variable {blue}{key}{end} with values from dictionary dfs's key {blue}{key}{end}\")"
   ]
  },
  {
   "attachments": {},
   "cell_type": "markdown",
   "metadata": {},
   "source": [
    "# Inspect the data: <a class=\"anchor\" id=\"chapter3\"></a>"
   ]
  },
  {
   "cell_type": "code",
   "execution_count": 6,
   "metadata": {},
   "outputs": [
    {
     "name": "stdout",
     "output_type": "stream",
     "text": [
      "\u001b[1mColumns in \u001b[94mBasket\u001b[0m\u001b[1m are: \u001b[0m\n",
      "\t-customer_id, invoice_id, list_of_goods\n",
      "\n",
      "\u001b[1mColumns in \u001b[94mInfo\u001b[0m\u001b[1m are: \u001b[0m\n",
      "\t-customer_id, customer_name, customer_gender, customer_birthdate, kids_home, \n",
      "\t-teens_home, number_complaints, distinct_stores_visited, lifetime_spend_groceries, lifetime_spend_electronics, \n",
      "\t-typical_hour, lifetime_spend_vegetables, lifetime_spend_nonalcohol_drinks, lifetime_spend_alcohol_drinks, lifetime_spend_meat, \n",
      "\t-lifetime_spend_fish, lifetime_spend_hygiene, lifetime_spend_videogames, lifetime_total_distinct_products, percentage_of_products_bought_promotion, \n",
      "\t-year_first_transaction, loyalty_card_number, latitude, longitude\n",
      "\n",
      "\u001b[1mColumns in \u001b[94mMapping\u001b[0m\u001b[1m are: \u001b[0m\n",
      "\t-product_name, category\n",
      "\n"
     ]
    }
   ],
   "source": [
    "print_cols(Basket, \"Basket\")\n",
    "print_cols(Info, \"Info\")\n",
    "print_cols(Mapping, \"Mapping\")"
   ]
  },
  {
   "cell_type": "code",
   "execution_count": 7,
   "metadata": {},
   "outputs": [
    {
     "name": "stdout",
     "output_type": "stream",
     "text": [
      "\u001b[94m\u001b[1mBasket\u001b[0m has no missing values.\n",
      "\n",
      "In \u001b[94m\u001b[1mInfo\u001b[0m, the following columns have missing values:\n",
      "\t-Column \u001b[94mloyalty_card_number\u001b[0m has \u001b[91m24175\u001b[0m missing values. This equals \u001b[91m80.58%\u001b[0m of its values.\n",
      "\t\n",
      "\u001b[94m\u001b[1mMapping\u001b[0m has no missing values.\n",
      "\n"
     ]
    }
   ],
   "source": [
    "print_na_cols(Basket, \"Basket\")\n",
    "print_na_cols(Info, \"Info\")\n",
    "print_na_cols(Mapping, \"Mapping\")"
   ]
  },
  {
   "cell_type": "code",
   "execution_count": 8,
   "metadata": {},
   "outputs": [
    {
     "name": "stdout",
     "output_type": "stream",
     "text": [
      "Number of duplicates in \u001b[94mBasket\u001b[0m: \u001b[91m0\u001b[0m\n",
      "Number of duplicates in \u001b[94mInfo\u001b[0m: \u001b[91m0\u001b[0m\n",
      "Number of duplicates in \u001b[94mMapping\u001b[0m: \u001b[91m1\u001b[0m\n"
     ]
    }
   ],
   "source": [
    "# check for duplicates\n",
    "print(f\"Number of duplicates in {blue}Basket{end}: {red}{Basket.duplicated().sum()}{end}\")\n",
    "print(f\"Number of duplicates in {blue}Info{end}: {red}{Info.duplicated().sum()}{end}\")\n",
    "print(f\"Number of duplicates in {blue}Mapping{end}: {red}{Mapping.duplicated().sum()}{end}\")"
   ]
  },
  {
   "cell_type": "code",
   "execution_count": 9,
   "metadata": {},
   "outputs": [
    {
     "name": "stdout",
     "output_type": "stream",
     "text": [
      "Number of duplicate customer_id in \u001b[94mInfo\u001b[0m: \u001b[91m0\u001b[0m\n",
      "Number of duplicate coordinates in \u001b[94mInfo\u001b[0m: \u001b[91m0\u001b[0m\n"
     ]
    }
   ],
   "source": [
    "# check for duplicate customer_id in Info\n",
    "print(f\"Number of duplicate customer_id in {blue}Info{end}: {red}{Info.duplicated(subset='customer_id').sum()}{end}\")\n",
    "print(f\"Number of duplicate coordinates in {blue}Info{end}: {red}{Info.duplicated(subset=['latitude', 'longitude']).sum()}{end}\")\n"
   ]
  },
  {
   "cell_type": "code",
   "execution_count": 10,
   "metadata": {},
   "outputs": [
    {
     "name": "stdout",
     "output_type": "stream",
     "text": [
      "    product_name    category\n",
      "128    asparagus  vegetables\n",
      "135    asparagus  vegetables\n"
     ]
    }
   ],
   "source": [
    "# print the duplicate rows in mapping with their index\n",
    "print(Mapping[Mapping.duplicated(keep=False)])"
   ]
  },
  {
   "cell_type": "code",
   "execution_count": 11,
   "metadata": {},
   "outputs": [],
   "source": [
    "# drop duplicates in Mapping\n",
    "# Mapping.drop_duplicates(inplace=True)"
   ]
  },
  {
   "cell_type": "code",
   "execution_count": 12,
   "metadata": {},
   "outputs": [
    {
     "name": "stdout",
     "output_type": "stream",
     "text": [
      "\u001b[94m\u001b[1mBasket\u001b[0m has no infinite values.\n",
      "\n",
      "In \u001b[94m\u001b[1mInfo\u001b[0m, the following columns have infinite values:\n",
      "\t-Column \u001b[94mtypical_hour\u001b[0m has \u001b[91m2\u001b[0m infinite values. This equals \u001b[91m0.01%\u001b[0m of its values.\n",
      "\t-Column \u001b[94mlifetime_spend_videogames\u001b[0m has \u001b[91m226\u001b[0m infinite values. This equals \u001b[91m0.75%\u001b[0m of its values.\n",
      "\t\n",
      "\u001b[94m\u001b[1mMapping\u001b[0m has no infinite values.\n",
      "\n"
     ]
    }
   ],
   "source": [
    "print_inf_cols(Basket, \"Basket\")\n",
    "print_inf_cols(Info, \"Info\")\n",
    "print_inf_cols(Mapping, \"Mapping\")"
   ]
  },
  {
   "attachments": {},
   "cell_type": "markdown",
   "metadata": {},
   "source": [
    "Let's inspect the rows that have infinite values in the columns."
   ]
  },
  {
   "cell_type": "code",
   "execution_count": 13,
   "metadata": {},
   "outputs": [
    {
     "data": {
      "text/plain": [
       "(226, 24)"
      ]
     },
     "execution_count": 13,
     "metadata": {},
     "output_type": "execute_result"
    }
   ],
   "source": [
    "# print the number of rows that have inf values\n",
    "Info[Info.isin([np.inf, -np.inf]).any(axis = 1)].shape"
   ]
  },
  {
   "attachments": {},
   "cell_type": "markdown",
   "metadata": {},
   "source": [
    "We can see that all the customers with infinite values appear to be supermarkets. Let's check the number of supermarkets in the dataset."
   ]
  },
  {
   "cell_type": "code",
   "execution_count": 14,
   "metadata": {},
   "outputs": [
    {
     "data": {
      "text/plain": [
       "(226, 24)"
      ]
     },
     "execution_count": 14,
     "metadata": {},
     "output_type": "execute_result"
    }
   ],
   "source": [
    "# check number of supermarkets in the dataset (rows that have supermarket in the customer_name)\n",
    "Info[Info.customer_name.str.contains(\"Supermarket\")].shape"
   ]
  },
  {
   "cell_type": "code",
   "execution_count": 15,
   "metadata": {},
   "outputs": [
    {
     "data": {
      "text/plain": [
       "True"
      ]
     },
     "execution_count": 15,
     "metadata": {},
     "output_type": "execute_result"
    }
   ],
   "source": [
    "# compare the two dataframes to see if they are the same: \n",
    "Info[Info.customer_name.str.contains(\"Supermarket\")].equals(Info[Info.isin([np.inf, -np.inf]).any(axis = 1)])"
   ]
  },
  {
   "attachments": {},
   "cell_type": "markdown",
   "metadata": {},
   "source": [
    "We can now see that there are 226 supermarkets on the dataset and that these are the customers with infinite values. <br> We are going to replace these values with 0 as this error in data is simply because supermarkets don't buy videogames. <br>\n",
    "We will also look into these customers in more detail."
   ]
  },
  {
   "cell_type": "code",
   "execution_count": 16,
   "metadata": {},
   "outputs": [],
   "source": [
    "# replace inf values in column lifetime_spend_videogames with 0\n",
    "Info['lifetime_spend_videogames'].replace([np.inf, -np.inf], 0, inplace=True)"
   ]
  },
  {
   "cell_type": "code",
   "execution_count": 17,
   "metadata": {},
   "outputs": [],
   "source": [
    "supermarkets = Info[Info.customer_name.str.contains(\"Supermarket\", case = False)]"
   ]
  },
  {
   "cell_type": "code",
   "execution_count": 18,
   "metadata": {},
   "outputs": [
    {
     "data": {
      "text/plain": [
       "(226, 24)"
      ]
     },
     "execution_count": 18,
     "metadata": {},
     "output_type": "execute_result"
    }
   ],
   "source": [
    "supermarkets.shape"
   ]
  },
  {
   "cell_type": "code",
   "execution_count": 19,
   "metadata": {},
   "outputs": [
    {
     "data": {
      "text/plain": [
       "count    226.000000\n",
       "mean           -inf\n",
       "std             NaN\n",
       "min            -inf\n",
       "25%        0.575646\n",
       "50%        0.693147\n",
       "75%        0.722593\n",
       "max        0.783874\n",
       "Name: typical_hour, dtype: float64"
      ]
     },
     "execution_count": 19,
     "metadata": {},
     "output_type": "execute_result"
    }
   ],
   "source": [
    "supermarkets['typical_hour'].describe()"
   ]
  },
  {
   "cell_type": "code",
   "execution_count": 20,
   "metadata": {},
   "outputs": [],
   "source": [
    "# impute inf values in typical hour Info due to being few and not having a clear pattern\n",
    "Info.loc[Info['typical_hour'] == -np.inf, 'typical_hour'] = supermarkets.loc[supermarkets['typical_hour'] != -np.inf, 'typical_hour'].mean()\n",
    "supermarkets.loc[supermarkets['typical_hour'] == -np.inf, 'typical_hour'] = supermarkets.loc[supermarkets['typical_hour'] != -np.inf, 'typical_hour'].mean()"
   ]
  },
  {
   "cell_type": "code",
   "execution_count": 21,
   "metadata": {},
   "outputs": [
    {
     "data": {
      "text/plain": [
       "count    226.000000\n",
       "mean       0.625775\n",
       "std        0.154783\n",
       "min        0.000000\n",
       "25%        0.575646\n",
       "50%        0.693147\n",
       "75%        0.722593\n",
       "max        0.783874\n",
       "Name: typical_hour, dtype: float64"
      ]
     },
     "execution_count": 21,
     "metadata": {},
     "output_type": "execute_result"
    }
   ],
   "source": [
    "supermarkets['typical_hour'].describe()"
   ]
  },
  {
   "attachments": {},
   "cell_type": "markdown",
   "metadata": {},
   "source": [
    "# Create new variables <a class=\"anchor\" id=\"chapter4\"></a>\n",
    "Using information in the dataset we can create new variables that might be useful for our analysis."
   ]
  },
  {
   "attachments": {},
   "cell_type": "markdown",
   "metadata": {},
   "source": [
    "### Create a new variable to tell if a customer is a business or not <a class=\"anchor\" id=\"section_4_1\"></a>"
   ]
  },
  {
   "attachments": {},
   "cell_type": "markdown",
   "metadata": {},
   "source": [
    "Let's create a new column with a boolean value indicating if the customer is a business or not."
   ]
  },
  {
   "cell_type": "code",
   "execution_count": 22,
   "metadata": {},
   "outputs": [],
   "source": [
    "Info['is_business'] = [1 if x == True else 0 for x in Info.customer_name.str.contains(\"Supermarket\", case = False)]"
   ]
  },
  {
   "attachments": {},
   "cell_type": "markdown",
   "metadata": {},
   "source": [
    "Let's create another new column with a boolean value indicating if the customer has a loyalty card or not."
   ]
  },
  {
   "cell_type": "code",
   "execution_count": 39,
   "metadata": {},
   "outputs": [],
   "source": [
    "Info['has_loyalty_card'] = [0 if pd.isna(x) else 1 for x in Info.loyalty_card_number]"
   ]
  },
  {
   "attachments": {},
   "cell_type": "markdown",
   "metadata": {},
   "source": [
    "### Create a new column with the Age of each customer. <a class=\"anchor\" id=\"section_4_2\"></a>"
   ]
  },
  {
   "cell_type": "code",
   "execution_count": 23,
   "metadata": {},
   "outputs": [],
   "source": [
    "Info['customer_birthdate'] = pd.to_datetime(Info['customer_birthdate'], format='%m/%d/%Y %H:%M %p')"
   ]
  },
  {
   "cell_type": "code",
   "execution_count": 24,
   "metadata": {},
   "outputs": [],
   "source": [
    "# age is the difference between the current year and the year in customer_birthdate\n",
    "Info['age'] = 2023 - Info.customer_birthdate.dt.year"
   ]
  },
  {
   "attachments": {},
   "cell_type": "markdown",
   "metadata": {},
   "source": [
    "### Column with the time the customer has existed. This will be *years_as_customer*. <a class=\"anchor\" id=\"section_4_3\"></a>"
   ]
  },
  {
   "cell_type": "code",
   "execution_count": 25,
   "metadata": {},
   "outputs": [
    {
     "name": "stdout",
     "output_type": "stream",
     "text": [
      "\u001b[1mColumns in \u001b[94mInfo\u001b[0m\u001b[1m are: \u001b[0m\n",
      "\t-customer_id, customer_name, customer_gender, customer_birthdate, kids_home, \n",
      "\t-teens_home, number_complaints, distinct_stores_visited, lifetime_spend_groceries, lifetime_spend_electronics, \n",
      "\t-typical_hour, lifetime_spend_vegetables, lifetime_spend_nonalcohol_drinks, lifetime_spend_alcohol_drinks, lifetime_spend_meat, \n",
      "\t-lifetime_spend_fish, lifetime_spend_hygiene, lifetime_spend_videogames, lifetime_total_distinct_products, percentage_of_products_bought_promotion, \n",
      "\t-year_first_transaction, loyalty_card_number, latitude, longitude, is_business, age\n",
      "\n"
     ]
    }
   ],
   "source": [
    "print_cols(Info, \"Info\")"
   ]
  },
  {
   "attachments": {},
   "cell_type": "markdown",
   "metadata": {},
   "source": [
    "This next cell gives us the last year that we have reported a new customer, so we will use that +1 as the current year. <br>\n",
    "The reason for the +1 is to avoid having a customer with 0 years as a customer. <br>\n",
    "This will in turn avoid having a division by 0 when we calculate the *years_as_customer*."
   ]
  },
  {
   "cell_type": "code",
   "execution_count": 26,
   "metadata": {},
   "outputs": [],
   "source": [
    "current_year = Info['year_first_transaction'].max() + 1"
   ]
  },
  {
   "cell_type": "code",
   "execution_count": 27,
   "metadata": {},
   "outputs": [],
   "source": [
    "Info['years_as_customer'] = current_year - Info['year_first_transaction']"
   ]
  },
  {
   "cell_type": "code",
   "execution_count": 28,
   "metadata": {},
   "outputs": [
    {
     "data": {
      "text/plain": [
       "32.0"
      ]
     },
     "execution_count": 28,
     "metadata": {},
     "output_type": "execute_result"
    }
   ],
   "source": [
    "Info['years_as_customer'].max()"
   ]
  },
  {
   "cell_type": "code",
   "execution_count": 29,
   "metadata": {},
   "outputs": [
    {
     "data": {
      "text/html": [
       "<div>\n",
       "<style scoped>\n",
       "    .dataframe tbody tr th:only-of-type {\n",
       "        vertical-align: middle;\n",
       "    }\n",
       "\n",
       "    .dataframe tbody tr th {\n",
       "        vertical-align: top;\n",
       "    }\n",
       "\n",
       "    .dataframe thead th {\n",
       "        text-align: right;\n",
       "    }\n",
       "</style>\n",
       "<table border=\"1\" class=\"dataframe\">\n",
       "  <thead>\n",
       "    <tr style=\"text-align: right;\">\n",
       "      <th></th>\n",
       "      <th>age</th>\n",
       "      <th>years_as_customer</th>\n",
       "      <th>year_first_transaction</th>\n",
       "    </tr>\n",
       "  </thead>\n",
       "  <tbody>\n",
       "    <tr>\n",
       "      <th>4</th>\n",
       "      <td>23</td>\n",
       "      <td>6.0</td>\n",
       "      <td>2015.0</td>\n",
       "    </tr>\n",
       "    <tr>\n",
       "      <th>6</th>\n",
       "      <td>28</td>\n",
       "      <td>10.0</td>\n",
       "      <td>2011.0</td>\n",
       "    </tr>\n",
       "    <tr>\n",
       "      <th>10</th>\n",
       "      <td>35</td>\n",
       "      <td>21.0</td>\n",
       "      <td>2000.0</td>\n",
       "    </tr>\n",
       "    <tr>\n",
       "      <th>17</th>\n",
       "      <td>28</td>\n",
       "      <td>18.0</td>\n",
       "      <td>2003.0</td>\n",
       "    </tr>\n",
       "    <tr>\n",
       "      <th>22</th>\n",
       "      <td>22</td>\n",
       "      <td>4.0</td>\n",
       "      <td>2017.0</td>\n",
       "    </tr>\n",
       "    <tr>\n",
       "      <th>...</th>\n",
       "      <td>...</td>\n",
       "      <td>...</td>\n",
       "      <td>...</td>\n",
       "    </tr>\n",
       "    <tr>\n",
       "      <th>29950</th>\n",
       "      <td>26</td>\n",
       "      <td>17.0</td>\n",
       "      <td>2004.0</td>\n",
       "    </tr>\n",
       "    <tr>\n",
       "      <th>29975</th>\n",
       "      <td>28</td>\n",
       "      <td>11.0</td>\n",
       "      <td>2010.0</td>\n",
       "    </tr>\n",
       "    <tr>\n",
       "      <th>29978</th>\n",
       "      <td>25</td>\n",
       "      <td>11.0</td>\n",
       "      <td>2010.0</td>\n",
       "    </tr>\n",
       "    <tr>\n",
       "      <th>29984</th>\n",
       "      <td>22</td>\n",
       "      <td>4.0</td>\n",
       "      <td>2017.0</td>\n",
       "    </tr>\n",
       "    <tr>\n",
       "      <th>29997</th>\n",
       "      <td>22</td>\n",
       "      <td>5.0</td>\n",
       "      <td>2016.0</td>\n",
       "    </tr>\n",
       "  </tbody>\n",
       "</table>\n",
       "<p>3789 rows × 3 columns</p>\n",
       "</div>"
      ],
      "text/plain": [
       "       age  years_as_customer  year_first_transaction\n",
       "4       23                6.0                  2015.0\n",
       "6       28               10.0                  2011.0\n",
       "10      35               21.0                  2000.0\n",
       "17      28               18.0                  2003.0\n",
       "22      22                4.0                  2017.0\n",
       "...    ...                ...                     ...\n",
       "29950   26               17.0                  2004.0\n",
       "29975   28               11.0                  2010.0\n",
       "29978   25               11.0                  2010.0\n",
       "29984   22                4.0                  2017.0\n",
       "29997   22                5.0                  2016.0\n",
       "\n",
       "[3789 rows x 3 columns]"
      ]
     },
     "execution_count": 29,
     "metadata": {},
     "output_type": "execute_result"
    }
   ],
   "source": [
    "# get the row with the max value in years_as_customer\n",
    "Info[['age', 'years_as_customer', 'year_first_transaction']][Info['years_as_customer'] >= Info['age'] - 18]"
   ]
  },
  {
   "attachments": {},
   "cell_type": "markdown",
   "metadata": {},
   "source": [
    "### Create a new column with the lifetime spent by the customer <a class=\"anchor\" id=\"section_4_4\"></a>"
   ]
  },
  {
   "attachments": {},
   "cell_type": "markdown",
   "metadata": {},
   "source": [
    "Using all the columns in the dataset with *lifetime_spend* in their name, we can create a new variable that represents the total amount of money they spent."
   ]
  },
  {
   "cell_type": "code",
   "execution_count": 30,
   "metadata": {},
   "outputs": [],
   "source": [
    "# create new column with total amount spent by each customer by summing all lifetime_spent columns\n",
    "Info['lifetime_spend'] = Info[[col for col in Info.columns if 'lifetime_spend' in col]].sum(axis=1)"
   ]
  },
  {
   "cell_type": "code",
   "execution_count": 31,
   "metadata": {},
   "outputs": [
    {
     "data": {
      "text/plain": [
       "count    30000.000000\n",
       "mean      8506.864009\n",
       "std       7031.387462\n",
       "min        543.000000\n",
       "25%       2431.750000\n",
       "50%       9170.000000\n",
       "75%      11137.000000\n",
       "max      36258.059197\n",
       "Name: lifetime_spend, dtype: float64"
      ]
     },
     "execution_count": 31,
     "metadata": {},
     "output_type": "execute_result"
    }
   ],
   "source": [
    "Info['lifetime_spend'].describe()"
   ]
  },
  {
   "attachments": {},
   "cell_type": "markdown",
   "metadata": {},
   "source": [
    "### Create a new variable that represents the total amount of money spent per year <a class=\"anchor\" id=\"section_4_5\"></a>"
   ]
  },
  {
   "attachments": {},
   "cell_type": "markdown",
   "metadata": {},
   "source": [
    "We can do this by dividing the total amount of money spent by the number of years they have been a customer."
   ]
  },
  {
   "cell_type": "code",
   "execution_count": 32,
   "metadata": {},
   "outputs": [],
   "source": [
    "Info['spend_per_year'] = Info['lifetime_spend'] / Info['years_as_customer']"
   ]
  },
  {
   "cell_type": "code",
   "execution_count": 33,
   "metadata": {},
   "outputs": [
    {
     "data": {
      "text/plain": [
       "count    30000.000000\n",
       "mean       695.863268\n",
       "std        563.651525\n",
       "min         38.000000\n",
       "25%        223.653846\n",
       "50%        724.928205\n",
       "75%        996.117424\n",
       "max      10975.000000\n",
       "Name: spend_per_year, dtype: float64"
      ]
     },
     "execution_count": 33,
     "metadata": {},
     "output_type": "execute_result"
    }
   ],
   "source": [
    "Info['spend_per_year'].describe()"
   ]
  },
  {
   "cell_type": "code",
   "execution_count": 34,
   "metadata": {},
   "outputs": [
    {
     "data": {
      "text/html": [
       "<div>\n",
       "<style scoped>\n",
       "    .dataframe tbody tr th:only-of-type {\n",
       "        vertical-align: middle;\n",
       "    }\n",
       "\n",
       "    .dataframe tbody tr th {\n",
       "        vertical-align: top;\n",
       "    }\n",
       "\n",
       "    .dataframe thead th {\n",
       "        text-align: right;\n",
       "    }\n",
       "</style>\n",
       "<table border=\"1\" class=\"dataframe\">\n",
       "  <thead>\n",
       "    <tr style=\"text-align: right;\">\n",
       "      <th></th>\n",
       "      <th>customer_id</th>\n",
       "      <th>customer_name</th>\n",
       "      <th>customer_gender</th>\n",
       "      <th>customer_birthdate</th>\n",
       "      <th>kids_home</th>\n",
       "      <th>teens_home</th>\n",
       "      <th>number_complaints</th>\n",
       "      <th>distinct_stores_visited</th>\n",
       "      <th>lifetime_spend_groceries</th>\n",
       "      <th>lifetime_spend_electronics</th>\n",
       "      <th>...</th>\n",
       "      <th>percentage_of_products_bought_promotion</th>\n",
       "      <th>year_first_transaction</th>\n",
       "      <th>loyalty_card_number</th>\n",
       "      <th>latitude</th>\n",
       "      <th>longitude</th>\n",
       "      <th>is_business</th>\n",
       "      <th>age</th>\n",
       "      <th>years_as_customer</th>\n",
       "      <th>lifetime_spend</th>\n",
       "      <th>spend_per_year</th>\n",
       "    </tr>\n",
       "  </thead>\n",
       "  <tbody>\n",
       "    <tr>\n",
       "      <th>24595</th>\n",
       "      <td>23396</td>\n",
       "      <td>Aurora Hartl</td>\n",
       "      <td>female</td>\n",
       "      <td>1953-09-11 01:34:00</td>\n",
       "      <td>6.0</td>\n",
       "      <td>0.0</td>\n",
       "      <td>1.0</td>\n",
       "      <td>3.0</td>\n",
       "      <td>5315.0</td>\n",
       "      <td>211.0</td>\n",
       "      <td>...</td>\n",
       "      <td>0.206432</td>\n",
       "      <td>2020.0</td>\n",
       "      <td>NaN</td>\n",
       "      <td>38.731795</td>\n",
       "      <td>-9.163617</td>\n",
       "      <td>0</td>\n",
       "      <td>70</td>\n",
       "      <td>1.0</td>\n",
       "      <td>10975.0</td>\n",
       "      <td>10975.0</td>\n",
       "    </tr>\n",
       "  </tbody>\n",
       "</table>\n",
       "<p>1 rows × 29 columns</p>\n",
       "</div>"
      ],
      "text/plain": [
       "       customer_id customer_name customer_gender  customer_birthdate  \\\n",
       "24595        23396  Aurora Hartl          female 1953-09-11 01:34:00   \n",
       "\n",
       "       kids_home  teens_home  number_complaints  distinct_stores_visited  \\\n",
       "24595        6.0         0.0                1.0                      3.0   \n",
       "\n",
       "       lifetime_spend_groceries  lifetime_spend_electronics  ...  \\\n",
       "24595                    5315.0                       211.0  ...   \n",
       "\n",
       "       percentage_of_products_bought_promotion  year_first_transaction  \\\n",
       "24595                                 0.206432                  2020.0   \n",
       "\n",
       "       loyalty_card_number   latitude  longitude  is_business  age  \\\n",
       "24595                  NaN  38.731795  -9.163617            0   70   \n",
       "\n",
       "       years_as_customer  lifetime_spend  spend_per_year  \n",
       "24595                1.0         10975.0         10975.0  \n",
       "\n",
       "[1 rows x 29 columns]"
      ]
     },
     "execution_count": 34,
     "metadata": {},
     "output_type": "execute_result"
    }
   ],
   "source": [
    "# max info spend per year\n",
    "Info[Info['spend_per_year'] == Info['spend_per_year'].max()]"
   ]
  },
  {
   "attachments": {},
   "cell_type": "markdown",
   "metadata": {},
   "source": [
    "### Create variable with the education level of the customers <a class=\"anchor\" id=\"section_4_6\"></a>"
   ]
  },
  {
   "cell_type": "code",
   "execution_count": 35,
   "metadata": {},
   "outputs": [],
   "source": [
    "# create variables with the education level of the customers, None, Bsc, Msc and PhD. These will be 0, 1, 2 and 3 respectively.\n",
    "# The information regarding this is in the customer_name column of the Info dataframe\n",
    "Info['education_level'] = create_educ_level(Info)"
   ]
  },
  {
   "cell_type": "code",
   "execution_count": 36,
   "metadata": {},
   "outputs": [
    {
     "data": {
      "text/plain": [
       "0    18568\n",
       "1     3815\n",
       "3     3810\n",
       "2     3807\n",
       "Name: education_level, dtype: int64"
      ]
     },
     "execution_count": 36,
     "metadata": {},
     "output_type": "execute_result"
    }
   ],
   "source": [
    "Info['education_level'].value_counts()"
   ]
  },
  {
   "attachments": {},
   "cell_type": "markdown",
   "metadata": {},
   "source": [
    "## Save the Data <a class=\"anchor\" id=\"chapter5\"></a>\n",
    "This saves the current state of the data to new csv files so that we can use them in other notebooks."
   ]
  },
  {
   "cell_type": "code",
   "execution_count": 37,
   "metadata": {},
   "outputs": [],
   "source": [
    "# save all three dataframes to csv files in a new folder named treated in the data folder of the project\n",
    "save_to_csv(dfs, wd + \"/data/\")"
   ]
  }
 ],
 "metadata": {
  "kernelspec": {
   "display_name": "Python 3",
   "language": "python",
   "name": "python3"
  },
  "language_info": {
   "codemirror_mode": {
    "name": "ipython",
    "version": 3
   },
   "file_extension": ".py",
   "mimetype": "text/x-python",
   "name": "python",
   "nbconvert_exporter": "python",
   "pygments_lexer": "ipython3",
   "version": "3.11.2"
  },
  "orig_nbformat": 4,
  "vscode": {
   "interpreter": {
    "hash": "e8a00227fbbeabfee3e4c7eae78ea7efab3aaaa5b33f3ff28071daefabaeab66"
   }
  }
 },
 "nbformat": 4,
 "nbformat_minor": 2
}
