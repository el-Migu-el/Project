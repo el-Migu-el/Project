{
 "cells": [
  {
   "attachments": {},
   "cell_type": "markdown",
   "metadata": {},
   "source": [
    "# Import Libraries <a class=\"anchor\" id=\"chapter1\"></a>"
   ]
  },
  {
   "attachments": {},
   "cell_type": "markdown",
   "metadata": {},
   "source": [
    "<i> Install the libraries below if you don't have them already </i>"
   ]
  },
  {
   "cell_type": "code",
   "execution_count": 1,
   "metadata": {},
   "outputs": [],
   "source": [
    "%load_ext autoreload\n",
    "%autoreload 2"
   ]
  },
  {
   "cell_type": "code",
   "execution_count": 2,
   "metadata": {},
   "outputs": [],
   "source": [
    "import os\n",
    "os.chdir(\"C:/Users/migue/OneDrive - NOVAIMS/Data Science/Coding Courses/Machine Learning II/Project\")\n",
    "# wd stands for working directory\n",
    "wd = os.getcwd()\n",
    "\n",
    "from functions.funcs import *"
   ]
  },
  {
   "cell_type": "code",
   "execution_count": 3,
   "metadata": {},
   "outputs": [],
   "source": [
    "import pandas as pd\n",
    "import numpy as np\n"
   ]
  },
  {
   "attachments": {},
   "cell_type": "markdown",
   "metadata": {},
   "source": [
    "# Load the Data <a class=\"anchor\" id=\"chapter2\"></a>"
   ]
  },
  {
   "cell_type": "code",
   "execution_count": 4,
   "metadata": {},
   "outputs": [
    {
     "name": "stdout",
     "output_type": "stream",
     "text": [
      "Created dataframe \u001b[94mbest_customers\u001b[0m from best_customers.csv\n",
      "Created dataframe \u001b[94mbig_families\u001b[0m from big_families.csv\n",
      "Created dataframe \u001b[94mcranky_elders\u001b[0m from cranky_elders.csv\n",
      "Created dataframe \u001b[94mfish_markets\u001b[0m from fish_markets.csv\n",
      "Created dataframe \u001b[94mgamers\u001b[0m from gamers.csv\n",
      "Created dataframe \u001b[94mparty_animals\u001b[0m from party_animals.csv\n",
      "Created dataframe \u001b[94mpromotion_seekers\u001b[0m from promotion_seekers.csv\n",
      "Created dataframe \u001b[94mvegetarians\u001b[0m from vegetarians.csv\n",
      "Created dataframe \u001b[94myoung_adults\u001b[0m from young_adults.csv\n",
      "Created global variable \u001b[94mbest_customers\u001b[0m with values from dictionary dfs key \u001b[94mbest_customers\u001b[0m\n",
      "Created global variable \u001b[94mbig_families\u001b[0m with values from dictionary dfs key \u001b[94mbig_families\u001b[0m\n",
      "Created global variable \u001b[94mcranky_elders\u001b[0m with values from dictionary dfs key \u001b[94mcranky_elders\u001b[0m\n",
      "Created global variable \u001b[94mfish_markets\u001b[0m with values from dictionary dfs key \u001b[94mfish_markets\u001b[0m\n",
      "Created global variable \u001b[94mgamers\u001b[0m with values from dictionary dfs key \u001b[94mgamers\u001b[0m\n",
      "Created global variable \u001b[94mparty_animals\u001b[0m with values from dictionary dfs key \u001b[94mparty_animals\u001b[0m\n",
      "Created global variable \u001b[94mpromotion_seekers\u001b[0m with values from dictionary dfs key \u001b[94mpromotion_seekers\u001b[0m\n",
      "Created global variable \u001b[94mvegetarians\u001b[0m with values from dictionary dfs key \u001b[94mvegetarians\u001b[0m\n",
      "Created global variable \u001b[94myoung_adults\u001b[0m with values from dictionary dfs key \u001b[94myoung_adults\u001b[0m\n"
     ]
    }
   ],
   "source": [
    "dfs = create_dfs(wd + \"/UMAP/umap_cluster_data/\")\n",
    "\n",
    "for key in dfs.keys():\n",
    "    globals()[key] = dfs[key]\n",
    "    print(f\"Created global variable {blue}{key}{end} with values from dictionary dfs key {blue}{key}{end}\")"
   ]
  },
  {
   "cell_type": "code",
   "execution_count": null,
   "metadata": {},
   "outputs": [],
   "source": [
    "# "
   ]
  }
 ],
 "metadata": {
  "kernelspec": {
   "display_name": ".venv",
   "language": "python",
   "name": "python3"
  },
  "language_info": {
   "codemirror_mode": {
    "name": "ipython",
    "version": 3
   },
   "file_extension": ".py",
   "mimetype": "text/x-python",
   "name": "python",
   "nbconvert_exporter": "python",
   "pygments_lexer": "ipython3",
   "version": "3.11.2"
  },
  "orig_nbformat": 4
 },
 "nbformat": 4,
 "nbformat_minor": 2
}
